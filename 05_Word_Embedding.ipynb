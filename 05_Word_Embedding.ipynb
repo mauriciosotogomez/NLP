{
 "cells": [
  {
   "cell_type": "markdown",
   "metadata": {},
   "source": [
    "# Word2vec"
   ]
  },
  {
   "cell_type": "code",
   "execution_count": 1,
   "metadata": {},
   "outputs": [],
   "source": [
    "sentences = [['this', 'is', 'a', 'first', 'example', 'of', 'text'],\n",
    "    ['this', 'is', 'the', 'second', 'example'],\n",
    "    ['yet', 'another', 'example'],\n",
    "    ['one', 'more', 'example'],\n",
    "    ['and', 'the', 'final', 'example']]"
   ]
  },
  {
   "cell_type": "code",
   "execution_count": 2,
   "metadata": {
    "scrolled": true
   },
   "outputs": [
    {
     "name": "stdout",
     "output_type": "stream",
     "text": [
      "Word2Vec(vocab=15, size=10, alpha=0.025)\n"
     ]
    }
   ],
   "source": [
    "from gensim.models import Word2Vec\n",
    "\n",
    "model = Word2Vec(sentences, min_count=1, size=10,window=3)\n",
    "print(model)\n"
   ]
  },
  {
   "cell_type": "code",
   "execution_count": 3,
   "metadata": {},
   "outputs": [
    {
     "name": "stdout",
     "output_type": "stream",
     "text": [
      "['this', 'is', 'a', 'first', 'example', 'of', 'text', 'the', 'second', 'yet', 'another', 'one', 'more', 'and', 'final']\n"
     ]
    }
   ],
   "source": [
    "words = list(model.wv.vocab)\n",
    "print(words)\n",
    "\n"
   ]
  },
  {
   "cell_type": "code",
   "execution_count": 4,
   "metadata": {},
   "outputs": [
    {
     "name": "stdout",
     "output_type": "stream",
     "text": [
      "v(final)=[-0.00838302 -0.00762286  0.002421    0.04210151  0.01538225  0.0485583\n",
      "  0.0471771  -0.01081826 -0.02978351  0.0048116 ]\n"
     ]
    }
   ],
   "source": [
    "\n",
    "print(\"v(final)=\"+str(model.wv['final']))\n",
    "\n",
    "# save model\n",
    "model.save('model.bin')"
   ]
  },
  {
   "cell_type": "code",
   "execution_count": 5,
   "metadata": {},
   "outputs": [
    {
     "name": "stdout",
     "output_type": "stream",
     "text": [
      "Word2Vec(vocab=15, size=10, alpha=0.025)\n"
     ]
    }
   ],
   "source": [
    "# load model\n",
    "new_model = Word2Vec.load('model.bin')\n",
    "print(new_model)"
   ]
  },
  {
   "cell_type": "code",
   "execution_count": 6,
   "metadata": {},
   "outputs": [],
   "source": [
    "X = model.wv[new_model.wv.vocab]"
   ]
  },
  {
   "cell_type": "code",
   "execution_count": 7,
   "metadata": {},
   "outputs": [
    {
     "data": {
      "text/plain": [
       "(15, 10)"
      ]
     },
     "execution_count": 7,
     "metadata": {},
     "output_type": "execute_result"
    }
   ],
   "source": [
    "X.shape"
   ]
  },
  {
   "cell_type": "code",
   "execution_count": 8,
   "metadata": {},
   "outputs": [
    {
     "data": {
      "image/png": "[encoded data removed]",
      "text/plain": [
       "<Figure size 432x288 with 1 Axes>"
      ]
     },
     "metadata": {
      "needs_background": "light"
     },
     "output_type": "display_data"
    }
   ],
   "source": [
    "import numpy as np\n",
    "from sklearn.decomposition import PCA\n",
    "import matplotlib.pyplot as plt\n",
    "%matplotlib inline\n",
    "\n",
    "pca = PCA(n_components=2)\n",
    "result = pca.fit_transform(X)\n",
    "plt.scatter(result[:, 0], result[:, 1])\n",
    "words = list(model.wv.vocab)\n",
    "for i, word in enumerate(words):\n",
    "    plt.annotate(word, xy=(result[i, 0], result[i, 1]))"
   ]
  },
  {
   "cell_type": "code",
   "execution_count": 9,
   "metadata": {},
   "outputs": [],
   "source": [
    "import gensim.downloader as api"
   ]
  },
  {
   "cell_type": "code",
   "execution_count": 10,
   "metadata": {},
   "outputs": [],
   "source": [
    "corpus = api.load('text8')"
   ]
  },
  {
   "cell_type": "code",
   "execution_count": 11,
   "metadata": {},
   "outputs": [
    {
     "data": {
      "text/plain": [
       "text8.Dataset"
      ]
     },
     "execution_count": 11,
     "metadata": {},
     "output_type": "execute_result"
    }
   ],
   "source": [
    "type(corpus)\n"
   ]
  },
  {
   "cell_type": "code",
   "execution_count": 12,
   "metadata": {},
   "outputs": [],
   "source": [
    "from gensim.models.word2vec import Word2Vec\n",
    "model8= Word2Vec(corpus)"
   ]
  },
  {
   "cell_type": "code",
   "execution_count": 13,
   "metadata": {},
   "outputs": [
    {
     "data": {
      "text/plain": [
       "array([-1.5870819 , -0.37244782,  0.07038775,  0.20984192, -1.5239096 ,\n",
       "        2.9450762 ,  2.6224647 ,  0.7093988 ,  0.5881422 ,  0.72838694,\n",
       "       -0.10204369, -1.5606936 ,  0.20161541,  1.0037261 ,  0.9479234 ,\n",
       "       -1.6589435 ,  0.8982269 , -0.5223006 , -1.8284905 , -1.5719998 ,\n",
       "        0.7883408 , -1.4280453 ,  0.25118744,  2.0979958 ,  0.43558586,\n",
       "       -0.05415174,  0.1025854 ,  0.71213317, -2.567227  , -0.59153754,\n",
       "       -0.493408  ,  0.11544316,  1.2541002 ,  0.6602103 ,  0.5469673 ,\n",
       "       -0.40347907, -0.3215866 , -0.1139168 ,  2.7030475 , -2.4955297 ,\n",
       "        2.0498612 , -0.39997587,  0.7096913 ,  0.4369082 , -0.9869272 ,\n",
       "        2.6978457 , -1.0545275 ,  0.920465  ,  0.76213145,  0.05792451,\n",
       "       -0.45973492, -1.6289301 ,  0.64199674, -0.15452921,  0.07478718,\n",
       "       -0.46988288, -0.54209864, -0.03202106, -1.4742621 ,  0.6851377 ,\n",
       "       -0.55873173, -1.3190101 ,  0.31208777,  1.3973069 ,  0.09586618,\n",
       "        1.2242911 ,  0.7351456 , -0.5292207 , -0.53942156,  0.4137922 ,\n",
       "        2.007578  , -1.7532828 ,  0.92450607,  0.28067198,  0.8922138 ,\n",
       "       -0.48915085,  3.552415  , -2.1702502 , -0.3953107 ,  0.87687206,\n",
       "        1.1065024 , -0.6436728 ,  2.5405545 ,  1.4425504 ,  2.355507  ,\n",
       "       -2.0641906 ,  0.21000575, -1.071769  , -1.3630848 , -0.14177023,\n",
       "       -1.8629948 , -1.3596613 , -0.9421368 ,  1.1438929 , -2.6616967 ,\n",
       "        1.3162384 ,  0.66002816, -1.0326974 , -0.98139304, -1.3034747 ],\n",
       "      dtype=float32)"
      ]
     },
     "execution_count": 13,
     "metadata": {},
     "output_type": "execute_result"
    }
   ],
   "source": [
    "model8.wv['tree']"
   ]
  },
  {
   "cell_type": "code",
   "execution_count": 14,
   "metadata": {},
   "outputs": [
    {
     "name": "stdout",
     "output_type": "stream",
     "text": [
      "[('trees', 0.7239347696304321), ('leaf', 0.7017390727996826), ('bark', 0.6756103038787842), ('pond', 0.6039673089981079), ('fruit', 0.5994572639465332), ('cactus', 0.5991237163543701), ('leaves', 0.5843262076377869), ('garden', 0.5841811895370483), ('bird', 0.5836094617843628), ('flower', 0.5823007225990295)]\n"
     ]
    }
   ],
   "source": [
    "print(model8.wv.most_similar('tree'))"
   ]
  },
  {
   "cell_type": "code",
   "execution_count": 15,
   "metadata": {},
   "outputs": [
    {
     "name": "stdout",
     "output_type": "stream",
     "text": [
      "cereal\n"
     ]
    },
    {
     "name": "stderr",
     "output_type": "stream",
     "text": [
      "/home/mausoto/anaconda3/lib/python3.7/site-packages/gensim/models/keyedvectors.py:877: FutureWarning: arrays to stack must be passed as a \"sequence\" type such as list or tuple. Support for non-sequence iterables such as generators is deprecated as of NumPy 1.16 and will raise an error in the future.\n",
      "  vectors = vstack(self.word_vec(word, use_norm=True) for word in used_words).astype(REAL)\n"
     ]
    }
   ],
   "source": [
    "print(model8.wv.doesnt_match(\"breakfast cereal dinner lunch\".split()))"
   ]
  },
  {
   "cell_type": "markdown",
   "metadata": {},
   "source": [
    "# Analogies"
   ]
  },
  {
   "cell_type": "code",
   "execution_count": 16,
   "metadata": {},
   "outputs": [
    {
     "name": "stdout",
     "output_type": "stream",
     "text": [
      "[('queen', 0.6861884593963623), ('empress', 0.5853868126869202), ('elizabeth', 0.5785930752754211)]\n"
     ]
    }
   ],
   "source": [
    "#v(king)-v(man)+v(woman)\n",
    "print(model8.wv.most_similar(positive=['king', 'woman'], negative=['man'], topn=3))"
   ]
  },
  {
   "cell_type": "code",
   "execution_count": 17,
   "metadata": {},
   "outputs": [
    {
     "name": "stdout",
     "output_type": "stream",
     "text": [
      "[('ferrari', 0.6925289630889893), ('scuderia', 0.6863264441490173), ('curtiss', 0.6829074621200562)]\n"
     ]
    }
   ],
   "source": [
    "print(model8.wv.most_similar(positive=['italy', 'renault'], negative=['france'], topn=3))\n"
   ]
  },
  {
   "cell_type": "code",
   "execution_count": 18,
   "metadata": {},
   "outputs": [
    {
     "name": "stdout",
     "output_type": "stream",
     "text": [
      "[('bologna', 0.757117509841919), ('toulouse', 0.7449429035186768), ('bruges', 0.7355884313583374)]\n"
     ]
    }
   ],
   "source": [
    "print(model8.wv.most_similar(positive=['france', 'venice'], negative=['italy'], topn=3))\n"
   ]
  },
  {
   "cell_type": "code",
   "execution_count": 19,
   "metadata": {},
   "outputs": [
    {
     "name": "stdout",
     "output_type": "stream",
     "text": [
      "[('dj', 0.647071123123169), ('britney', 0.6389771699905396), ('promotional', 0.6309278011322021)]\n"
     ]
    }
   ],
   "source": [
    "print(model8.wv.most_similar(positive=['usa', 'beatles'], negative=['england'], topn=3))"
   ]
  },
  {
   "cell_type": "code",
   "execution_count": 20,
   "metadata": {},
   "outputs": [
    {
     "data": {
      "text/plain": [
       "[('mcintosh', 0.641545295715332),\n",
       " ('logo', 0.6026994585990906),\n",
       " ('jaguar', 0.5909193754196167),\n",
       " ('iie', 0.5849088430404663),\n",
       " ('pok', 0.5848257541656494),\n",
       " ('lynx', 0.5846157073974609),\n",
       " ('iic', 0.576237678527832),\n",
       " ('octopus', 0.5751309990882874),\n",
       " ('lemon', 0.5740578174591064),\n",
       " ('nes', 0.5713634490966797)]"
      ]
     },
     "execution_count": 20,
     "metadata": {},
     "output_type": "execute_result"
    }
   ],
   "source": [
    "model8.wv.most_similar(['apple','orange'])"
   ]
  },
  {
   "cell_type": "markdown",
   "metadata": {},
   "source": [
    "##  Loading pre-trained models"
   ]
  },
  {
   "cell_type": "code",
   "execution_count": 23,
   "metadata": {},
   "outputs": [],
   "source": [
    "# Load pretrained model GoogleNews-vectors-negative300.bin.gz\n",
    "# https://drive.google.com/file/d/0B7XkCwpI5KDYNlNUTTlSS21pQmM/edit?usp=sharing\n",
    "\n",
    "from gensim.models import KeyedVectors\n",
    "model = KeyedVectors.load_word2vec_format('GoogleNews-vectors-negative300.bin', binary=True)"
   ]
  },
  {
   "cell_type": "code",
   "execution_count": 24,
   "metadata": {},
   "outputs": [
    {
     "name": "stdout",
     "output_type": "stream",
     "text": [
      "[('trees', 0.8293122053146362), ('pine_tree', 0.7622087001800537), ('oak_tree', 0.731893002986908), ('evergreen_tree', 0.6926872730255127), ('fir_tree', 0.6917217969894409), ('willow_tree', 0.6845874190330505), ('pine_trees', 0.6824266910552979), ('maple_tree', 0.6803498268127441), ('sycamore_tree', 0.6681811213493347), ('tress', 0.6547873020172119)]\n"
     ]
    }
   ],
   "source": [
    "print(model.most_similar('tree'))"
   ]
  },
  {
   "cell_type": "code",
   "execution_count": 32,
   "metadata": {},
   "outputs": [
    {
     "name": "stdout",
     "output_type": "stream",
     "text": [
      "[('Monarchy', 0.4897083640098572), ('constitutional_monarchy', 0.48723936080932617), ('royalists', 0.45945388078689575)]\n"
     ]
    }
   ],
   "source": [
    "print(model.most_similar(positive=['germany', 'monarchy'], negative=['netherlands'], topn=3))\n"
   ]
  },
  {
   "cell_type": "code",
   "execution_count": 30,
   "metadata": {},
   "outputs": [
    {
     "name": "stdout",
     "output_type": "stream",
     "text": [
      "[('real_madrid', 0.6134896278381348), ('juventus', 0.6055796146392822), ('Ac_Milan', 0.6013585329055786)]\n"
     ]
    }
   ],
   "source": [
    "print(model.most_similar(positive=['italy', 'manchester_united'], negative=['england'], topn=3))\n"
   ]
  },
  {
   "cell_type": "markdown",
   "metadata": {},
   "source": [
    "## Glove"
   ]
  },
  {
   "cell_type": "code",
   "execution_count": 34,
   "metadata": {},
   "outputs": [
    {
     "data": {
      "text/plain": [
       "(1917494, 300)"
      ]
     },
     "execution_count": 34,
     "metadata": {},
     "output_type": "execute_result"
    }
   ],
   "source": [
    "from gensim.scripts.glove2word2vec import glove2word2vec\n",
    "glove_input_file = 'glove.42B.300d.txt'\n",
    "word2vec_output_file = 'glove.42B.300d.txt.word2vec'\n",
    "glove2word2vec(glove_input_file, word2vec_output_file)"
   ]
  },
  {
   "cell_type": "code",
   "execution_count": 35,
   "metadata": {},
   "outputs": [
    {
     "name": "stdout",
     "output_type": "stream",
     "text": [
      "[('queen', 0.7833545804023743)]\n"
     ]
    }
   ],
   "source": [
    "from gensim.models import KeyedVectors\n",
    "\n",
    "filename = 'glove.42B.300d.txt.word2vec'\n",
    "model = KeyedVectors.load_word2vec_format(filename, binary=False)\n",
    "\n",
    "result = model.most_similar(positive=['woman', 'king'], negative=['man'], topn=1)\n",
    "print(result)"
   ]
  },
  {
   "cell_type": "code",
   "execution_count": 36,
   "metadata": {},
   "outputs": [
    {
     "name": "stdout",
     "output_type": "stream",
     "text": [
      "[('trees', 0.8341457843780518), ('branches', 0.6109410524368286), ('leaf', 0.6104052066802979), ('pine', 0.6100702285766602), ('forest', 0.5894954204559326), ('garden', 0.5828164219856262), ('vine', 0.5765968561172485), ('branch', 0.5740604400634766), ('flower', 0.5736389756202698), ('willow', 0.5727055668830872)]\n"
     ]
    }
   ],
   "source": [
    "print(model.most_similar('tree'))"
   ]
  },
  {
   "cell_type": "code",
   "execution_count": null,
   "metadata": {},
   "outputs": [],
   "source": []
  }
 ],
 "metadata": {
  "kernelspec": {
   "display_name": "Python 3",
   "language": "python",
   "name": "python3"
  },
  "language_info": {
   "codemirror_mode": {
    "name": "ipython",
    "version": 3
   },
   "file_extension": ".py",
   "mimetype": "text/x-python",
   "name": "python",
   "nbconvert_exporter": "python",
   "pygments_lexer": "ipython3",
   "version": "3.7.6"
  },
  "toc": {
   "nav_menu": {},
   "number_sections": true,
   "sideBar": true,
   "skip_h1_title": false,
   "toc_cell": false,
   "toc_position": {},
   "toc_section_display": "block",
   "toc_window_display": false
  },
  "varInspector": {
   "cols": {
    "lenName": 16,
    "lenType": 16,
    "lenVar": 40
   },
   "kernels_config": {
    "python": {
     "delete_cmd_postfix": "",
     "delete_cmd_prefix": "del ",
     "library": "var_list.py",
     "varRefreshCmd": "print(var_dic_list())"
    },
    "r": {
     "delete_cmd_postfix": ") ",
     "delete_cmd_prefix": "rm(",
     "library": "var_list.r",
     "varRefreshCmd": "cat(var_dic_list()) "
    }
   },
   "types_to_exclude": [
    "module",
    "function",
    "builtin_function_or_method",
    "instance",
    "_Feature"
   ],
   "window_display": false
  }
 },
 "nbformat": 4,
 "nbformat_minor": 2
}
