{
 "cells": [
  {
   "cell_type": "markdown",
   "metadata": {},
   "source": [
    "# Word2vec"
   ]
  },
  {
   "cell_type": "code",
   "execution_count": null,
   "metadata": {},
   "outputs": [],
   "source": [
    "#import sys\n",
    "#!conda install --yes --prefix {sys.prefix} gensim"
   ]
  },
  {
   "cell_type": "code",
   "execution_count": 200,
   "metadata": {},
   "outputs": [],
   "source": [
    "sentences = [['this', 'is', 'a', 'first', 'example', 'of', 'text'],\n",
    "    ['this', 'is', 'the', 'second', 'example'],\n",
    "    ['yet', 'another', 'example'],\n",
    "    ['one', 'more', 'example'],\n",
    "    ['and', 'the', 'final', 'example']]"
   ]
  },
  {
   "cell_type": "code",
   "execution_count": 201,
   "metadata": {
    "scrolled": true
   },
   "outputs": [
    {
     "name": "stdout",
     "output_type": "stream",
     "text": [
      "Word2Vec(vocab=15, size=10, alpha=0.025)\n"
     ]
    }
   ],
   "source": [
    "from gensim.models import Word2Vec\n",
    "\n",
    "model = Word2Vec(sentences, min_count=1, size=10,window=3)\n",
    "print(model)\n"
   ]
  },
  {
   "cell_type": "code",
   "execution_count": 202,
   "metadata": {},
   "outputs": [
    {
     "name": "stdout",
     "output_type": "stream",
     "text": [
      "['this', 'is', 'a', 'first', 'example', 'of', 'text', 'the', 'second', 'yet', 'another', 'one', 'more', 'and', 'final']\n"
     ]
    }
   ],
   "source": [
    "words = list(model.wv.vocab)\n",
    "print(words)\n",
    "\n"
   ]
  },
  {
   "cell_type": "code",
   "execution_count": 204,
   "metadata": {},
   "outputs": [
    {
     "name": "stdout",
     "output_type": "stream",
     "text": [
      "v(final)=[-0.04450522 -0.04468255  0.04549608  0.04298965  0.04439742 -0.04225256\n",
      "  0.00168646 -0.04427767 -0.01024379  0.00958673]\n"
     ]
    }
   ],
   "source": [
    "\n",
    "print(\"v(final)=\"+str(model.wv['final']))\n",
    "\n",
    "# save model\n",
    "model.save('model.bin')"
   ]
  },
  {
   "cell_type": "code",
   "execution_count": 205,
   "metadata": {},
   "outputs": [
    {
     "name": "stdout",
     "output_type": "stream",
     "text": [
      "Word2Vec(vocab=15, size=10, alpha=0.025)\n"
     ]
    }
   ],
   "source": [
    "# load model\n",
    "new_model = Word2Vec.load('model.bin')\n",
    "print(new_model)"
   ]
  },
  {
   "cell_type": "code",
   "execution_count": 171,
   "metadata": {},
   "outputs": [],
   "source": [
    "X = model.wv[new_model.wv.vocab]"
   ]
  },
  {
   "cell_type": "code",
   "execution_count": 163,
   "metadata": {},
   "outputs": [
    {
     "data": {
      "text/plain": [
       "(15, 10)"
      ]
     },
     "execution_count": 163,
     "metadata": {},
     "output_type": "execute_result"
    }
   ],
   "source": [
    "X.shape"
   ]
  },
  {
   "cell_type": "code",
   "execution_count": 206,
   "metadata": {},
   "outputs": [
    {
     "data": {
      "image/png": "[encoded data removed]",
      "text/plain": [
       "<Figure size 432x288 with 1 Axes>"
      ]
     },
     "metadata": {
      "needs_background": "light"
     },
     "output_type": "display_data"
    }
   ],
   "source": [
    "import numpy as np\n",
    "from sklearn.decomposition import PCA\n",
    "import matplotlib.pyplot as plt\n",
    "%matplotlib inline\n",
    "\n",
    "pca = PCA(n_components=2)\n",
    "result = pca.fit_transform(X)\n",
    "plt.scatter(result[:, 0], result[:, 1])\n",
    "words = list(model.wv.vocab)\n",
    "for i, word in enumerate(words):\n",
    "    plt.annotate(word, xy=(result[i, 0], result[i, 1]))"
   ]
  },
  {
   "cell_type": "code",
   "execution_count": 207,
   "metadata": {},
   "outputs": [],
   "source": [
    "import gensim.downloader as api"
   ]
  },
  {
   "cell_type": "code",
   "execution_count": 208,
   "metadata": {},
   "outputs": [],
   "source": [
    "corpus = api.load('text8')"
   ]
  },
  {
   "cell_type": "code",
   "execution_count": 209,
   "metadata": {},
   "outputs": [
    {
     "data": {
      "text/plain": [
       "text8.Dataset"
      ]
     },
     "execution_count": 209,
     "metadata": {},
     "output_type": "execute_result"
    }
   ],
   "source": [
    "type(corpus)"
   ]
  },
  {
   "cell_type": "code",
   "execution_count": 210,
   "metadata": {},
   "outputs": [],
   "source": [
    "from gensim.models.word2vec import Word2Vec\n",
    "model8= Word2Vec(corpus)"
   ]
  },
  {
   "cell_type": "code",
   "execution_count": 211,
   "metadata": {},
   "outputs": [
    {
     "data": {
      "text/plain": [
       "array([-2.5352533 , -1.6290882 ,  1.1796577 ,  1.9012558 ,  0.41124827,\n",
       "       -0.7731007 , -0.85539466,  2.0098171 ,  0.05400473,  0.8147159 ,\n",
       "       -0.8150351 , -1.222414  ,  1.1258707 ,  0.8628559 , -0.08012119,\n",
       "        0.83586633,  0.4928995 ,  0.849961  ,  0.7126838 ,  2.697887  ,\n",
       "        1.2671543 , -1.183194  ,  2.0053384 , -0.16189653,  0.2617844 ,\n",
       "        1.2763937 ,  0.35574543, -0.1391968 , -3.8584297 , -2.196346  ,\n",
       "        0.8625773 ,  1.5349872 , -1.1146197 , -0.0282496 ,  0.40370774,\n",
       "       -0.11793032,  1.5628953 , -0.05153443, -0.32379797, -1.618734  ,\n",
       "       -0.77597827,  0.85661   ,  2.044874  ,  1.7085441 ,  1.3780435 ,\n",
       "       -1.3055445 , -0.3943222 , -0.6457033 ,  1.4470626 ,  1.1821789 ,\n",
       "        0.529086  , -1.3683584 ,  1.2905694 , -0.08058481,  0.11167571,\n",
       "        0.8139906 ,  1.8663299 ,  1.9893886 ,  1.1515743 ,  1.0156292 ,\n",
       "       -1.6896203 , -2.5307298 , -1.4655198 ,  1.4481344 , -0.80688894,\n",
       "       -0.14187169, -0.09058347, -0.81768024,  0.07064059, -0.5584983 ,\n",
       "       -2.6752002 ,  0.16194378,  0.67461413, -1.3775609 ,  2.0563025 ,\n",
       "        0.2260889 ,  1.6319885 ,  3.0299876 ,  0.6353288 , -3.1316853 ,\n",
       "        1.9568945 , -0.8139823 , -0.20431969,  2.1219237 ,  0.7994701 ,\n",
       "       -1.0190954 , -0.2524476 , -0.980873  ,  1.1903985 , -1.1332407 ,\n",
       "       -1.1823194 , -0.7864332 , -0.517139  , -0.26872692,  1.4978242 ,\n",
       "       -2.1145413 , -0.12562546,  0.56245476, -0.20584412, -0.08374477],\n",
       "      dtype=float32)"
      ]
     },
     "execution_count": 211,
     "metadata": {},
     "output_type": "execute_result"
    }
   ],
   "source": [
    "model8.wv['tree']"
   ]
  },
  {
   "cell_type": "code",
   "execution_count": 212,
   "metadata": {},
   "outputs": [
    {
     "name": "stdout",
     "output_type": "stream",
     "text": [
      "[('trees', 0.6981440782546997), ('bark', 0.6837161779403687), ('leaf', 0.6654955148696899), ('bird', 0.6150989532470703), ('flower', 0.6119370460510254), ('avl', 0.5995259284973145), ('fruit', 0.5961179137229919), ('pond', 0.5822395086288452), ('vine', 0.5795713663101196), ('cave', 0.5774624347686768)]\n"
     ]
    }
   ],
   "source": [
    "print(model8.wv.most_similar('tree'))"
   ]
  },
  {
   "cell_type": "code",
   "execution_count": 214,
   "metadata": {},
   "outputs": [
    {
     "name": "stdout",
     "output_type": "stream",
     "text": [
      "cereal\n"
     ]
    }
   ],
   "source": [
    "print(model8.wv.doesnt_match(\"breakfast cereal dinner lunch\".split()))"
   ]
  },
  {
   "cell_type": "markdown",
   "metadata": {},
   "source": [
    "# Analogies"
   ]
  },
  {
   "cell_type": "code",
   "execution_count": null,
   "metadata": {},
   "outputs": [],
   "source": [
    "v(king)-v(man)+v(woman)"
   ]
  },
  {
   "cell_type": "code",
   "execution_count": 219,
   "metadata": {},
   "outputs": [
    {
     "name": "stdout",
     "output_type": "stream",
     "text": [
      "[('benz', 0.7016667127609253), ('mclaren', 0.6646001935005188), ('mercedes', 0.6463009715080261)]\n"
     ]
    }
   ],
   "source": [
    "print(model8.wv.most_similar(positive=['italy', 'renault'], negative=['france'], topn=3))\n"
   ]
  },
  {
   "cell_type": "code",
   "execution_count": 217,
   "metadata": {},
   "outputs": [
    {
     "name": "stdout",
     "output_type": "stream",
     "text": [
      "[('paris', 0.718423068523407), ('toulouse', 0.7165618538856506), ('strasbourg', 0.7047515511512756)]\n"
     ]
    }
   ],
   "source": [
    "print(model8.wv.most_similar(positive=['france', 'venice'], negative=['italy'], topn=3))\n"
   ]
  },
  {
   "cell_type": "code",
   "execution_count": 218,
   "metadata": {},
   "outputs": [
    {
     "name": "stdout",
     "output_type": "stream",
     "text": [
      "[('garth', 0.6099179983139038), ('lisa', 0.6087814569473267), ('dj', 0.606204628944397)]\n"
     ]
    }
   ],
   "source": [
    "print(model8.wv.most_similar(positive=['usa', 'beatles'], negative=['england'], topn=3))"
   ]
  },
  {
   "cell_type": "code",
   "execution_count": 222,
   "metadata": {},
   "outputs": [
    {
     "data": {
      "text/plain": [
       "[('jaguar', 0.6370922327041626),\n",
       " ('lotus', 0.6322891712188721),\n",
       " ('lemon', 0.6194930076599121),\n",
       " ('logo', 0.6023187637329102),\n",
       " ('grille', 0.5983625650405884),\n",
       " ('vw', 0.5982217788696289),\n",
       " ('mcintosh', 0.5879508256912231),\n",
       " ('aqua', 0.5862189531326294),\n",
       " ('lynx', 0.5758203268051147),\n",
       " ('iie', 0.5740398168563843)]"
      ]
     },
     "execution_count": 222,
     "metadata": {},
     "output_type": "execute_result"
    }
   ],
   "source": [
    "model8.wv.most_similar(['apple','orange'])"
   ]
  },
  {
   "cell_type": "markdown",
   "metadata": {},
   "source": [
    "##  Loading pre-trained models"
   ]
  },
  {
   "cell_type": "code",
   "execution_count": 225,
   "metadata": {},
   "outputs": [],
   "source": [
    "# Load pretrained model GoogleNews-vectors-negative300.bin.gz\n",
    "# https://drive.google.com/file/d/0B7XkCwpI5KDYNlNUTTlSS21pQmM/edit?usp=sharing\n",
    "\n",
    "from gensim.models import KeyedVectors\n",
    "model = KeyedVectors.load_word2vec_format('GoogleNews-vectors-negative300.bin', binary=True)"
   ]
  },
  {
   "cell_type": "code",
   "execution_count": 228,
   "metadata": {},
   "outputs": [
    {
     "name": "stdout",
     "output_type": "stream",
     "text": [
      "[('trees', 0.8293122053146362), ('pine_tree', 0.7622087001800537), ('oak_tree', 0.731893002986908), ('evergreen_tree', 0.6926872730255127), ('fir_tree', 0.6917217969894409), ('willow_tree', 0.6845874190330505), ('pine_trees', 0.6824266910552979), ('maple_tree', 0.6803498268127441), ('sycamore_tree', 0.6681811213493347), ('tress', 0.6547873020172119)]\n"
     ]
    }
   ],
   "source": [
    "print(model.most_similar('tree'))"
   ]
  },
  {
   "cell_type": "code",
   "execution_count": 197,
   "metadata": {},
   "outputs": [
    {
     "name": "stdout",
     "output_type": "stream",
     "text": [
      "[('Monarchy', 0.4897083640098572), ('constitutional_monarchy', 0.48723936080932617), ('royalists', 0.45945388078689575)]\n"
     ]
    }
   ],
   "source": [
    "print(model.most_similar(positive=['germany', 'monarchy'], negative=['netherlands'], topn=3))\n"
   ]
  },
  {
   "cell_type": "code",
   "execution_count": 119,
   "metadata": {},
   "outputs": [
    {
     "name": "stdout",
     "output_type": "stream",
     "text": [
      "[('juve', 0.6002182960510254), ('spain', 0.5989649295806885), ('lazio', 0.5795004963874817)]\n"
     ]
    }
   ],
   "source": [
    "print(model.most_similar(positive=['italy', 'england'], negative=['beatles'], topn=3))\n"
   ]
  },
  {
   "cell_type": "markdown",
   "metadata": {},
   "source": [
    "## Glove"
   ]
  },
  {
   "cell_type": "code",
   "execution_count": 227,
   "metadata": {},
   "outputs": [
    {
     "data": {
      "text/plain": [
       "(1917494, 300)"
      ]
     },
     "execution_count": 227,
     "metadata": {},
     "output_type": "execute_result"
    }
   ],
   "source": [
    "from gensim.scripts.glove2word2vec import glove2word2vec\n",
    "glove_input_file = 'glove.42B.300d.txt'\n",
    "word2vec_output_file = 'glove.42B.300d.txt.word2vec'\n",
    "glove2word2vec(glove_input_file, word2vec_output_file)"
   ]
  },
  {
   "cell_type": "code",
   "execution_count": 229,
   "metadata": {},
   "outputs": [
    {
     "name": "stdout",
     "output_type": "stream",
     "text": [
      "[('queen', 0.7833545804023743)]\n"
     ]
    }
   ],
   "source": [
    "from gensim.models import KeyedVectors\n",
    "\n",
    "filename = 'glove.42B.300d.txt.word2vec'\n",
    "model = KeyedVectors.load_word2vec_format(filename, binary=False)\n",
    "\n",
    "result = model.most_similar(positive=['woman', 'king'], negative=['man'], topn=1)\n",
    "print(result)"
   ]
  },
  {
   "cell_type": "code",
   "execution_count": null,
   "metadata": {},
   "outputs": [],
   "source": [
    "print(model.most_similar('tree'))"
   ]
  },
  {
   "cell_type": "code",
   "execution_count": null,
   "metadata": {},
   "outputs": [],
   "source": []
  }
 ],
 "metadata": {
  "kernelspec": {
   "display_name": "Python 3",
   "language": "python",
   "name": "python3"
  },
  "language_info": {
   "codemirror_mode": {
    "name": "ipython",
    "version": 3
   },
   "file_extension": ".py",
   "mimetype": "text/x-python",
   "name": "python",
   "nbconvert_exporter": "python",
   "pygments_lexer": "ipython3",
   "version": "3.7.6"
  },
  "toc": {
   "nav_menu": {},
   "number_sections": true,
   "sideBar": true,
   "skip_h1_title": false,
   "toc_cell": false,
   "toc_position": {},
   "toc_section_display": "block",
   "toc_window_display": false
  },
  "varInspector": {
   "cols": {
    "lenName": 16,
    "lenType": 16,
    "lenVar": 40
   },
   "kernels_config": {
    "python": {
     "delete_cmd_postfix": "",
     "delete_cmd_prefix": "del ",
     "library": "var_list.py",
     "varRefreshCmd": "print(var_dic_list())"
    },
    "r": {
     "delete_cmd_postfix": ") ",
     "delete_cmd_prefix": "rm(",
     "library": "var_list.r",
     "varRefreshCmd": "cat(var_dic_list()) "
    }
   },
   "types_to_exclude": [
    "module",
    "function",
    "builtin_function_or_method",
    "instance",
    "_Feature"
   ],
   "window_display": false
  }
 },
 "nbformat": 4,
 "nbformat_minor": 2
}
