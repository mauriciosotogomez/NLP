{
  "nbformat": 4,
  "nbformat_minor": 0,
  "metadata": {
    "colab": {
      "name": "Keras and GPU",
      "provenance": [],
      "collapsed_sections": []
    },
    "kernelspec": {
      "display_name": "Python 3",
      "name": "python3"
    },
    "accelerator": "GPU"
  },
  "cells": [
    {
      "cell_type": "markdown",
      "metadata": {
        "id": "tMce8muBqXQP"
      },
      "source": [
        "# Requirements\n",
        "\n",
        "- You have a GPU!\n",
        "- You have CUDA installed \n",
        "  - conda install -c anaconda cudatoolkit\n",
        "- Install TensorFlow (Keras is buid on TF)\n",
        "  - Install instructions https://www.tensorflow.org/install/gpu\n",
        "  - conda install -c anaconda tensorflow-gpu"
      ]
    },
    {
      "cell_type": "markdown",
      "metadata": {
        "id": "oM_8ELnJq_wd"
      },
      "source": [
        "## Enabling GPU in Colab\n",
        "\n",
        "Edit→Notebook Settings\n"
      ]
    },
    {
      "cell_type": "code",
      "metadata": {
        "id": "sXnDmXR7RDr2"
      },
      "source": [
        "%tensorflow_version 2.x\n",
        "import tensorflow as tf"
      ],
      "execution_count": 13,
      "outputs": []
    },
    {
      "cell_type": "code",
      "metadata": {
        "id": "qtsU8p9MWAts"
      },
      "source": [
        "from tensorflow.python.client import device_lib"
      ],
      "execution_count": 2,
      "outputs": []
    },
    {
      "cell_type": "code",
      "metadata": {
        "colab": {
          "base_uri": "https://localhost:8080/"
        },
        "id": "o_LACa75WUKx",
        "outputId": "847a101b-ef10-4081-caf0-5001dea590ec"
      },
      "source": [
        "print(device_lib.list_local_devices())"
      ],
      "execution_count": 3,
      "outputs": [
        {
          "output_type": "stream",
          "text": [
            "[name: \"/device:CPU:0\"\n",
            "device_type: \"CPU\"\n",
            "memory_limit: 268435456\n",
            "locality {\n",
            "}\n",
            "incarnation: 6298714310650341784\n",
            ", name: \"/device:GPU:0\"\n",
            "device_type: \"GPU\"\n",
            "memory_limit: 14638920512\n",
            "locality {\n",
            "  bus_id: 1\n",
            "  links {\n",
            "  }\n",
            "}\n",
            "incarnation: 4895616935981846626\n",
            "physical_device_desc: \"device: 0, name: Tesla T4, pci bus id: 0000:00:04.0, compute capability: 7.5\"\n",
            "]\n"
          ],
          "name": "stdout"
        }
      ]
    },
    {
      "cell_type": "markdown",
      "metadata": {
        "id": "v3fE7KmKRDsH"
      },
      "source": [
        "## Test GPU \n"
      ]
    },
    {
      "cell_type": "code",
      "metadata": {
        "id": "Y04m-jvKRDsJ"
      },
      "source": [
        "%tensorflow_version 2.x\n",
        "import tensorflow as tf\n",
        "import timeit\n",
        "\n",
        "\n",
        "with tf.device('/cpu:0'):\n",
        "  random_image_cpu = tf.random.normal((100, 100, 100, 3))\n",
        "  net_cpu = tf.keras.layers.Conv2D(32, 7)(random_image_cpu)\n",
        "\n",
        "with tf.device('/device:GPU:0'):\n",
        "  random_image_gpu = tf.random.normal((100, 100, 100, 3))\n",
        "  net_gpu = tf.keras.layers.Conv2D(32, 7)(random_image_gpu)\n",
        "  \n"
      ],
      "execution_count": 14,
      "outputs": []
    },
    {
      "cell_type": "code",
      "metadata": {
        "id": "OFb-IAmubqo6"
      },
      "source": [
        ""
      ],
      "execution_count": 17,
      "outputs": []
    },
    {
      "cell_type": "code",
      "metadata": {
        "id": "ZO5ZaO7iTBqs"
      },
      "source": [
        "import numpy as np\n",
        "import keras \n",
        "from tensorflow.keras.models import Sequential\n",
        "from tensorflow.keras.layers import Dense\n",
        "from tensorflow.keras.utils import to_categorical\n",
        "\n",
        "mnist = tf.keras.datasets.mnist\n",
        "\n",
        "(train_images, train_labels), (test_images, test_labels) = mnist.load_data()\n",
        "\n",
        "\n",
        "# Normalize the images.\n",
        "train_images = (train_images / 255) - 0.5\n",
        "test_images = (test_images / 255) - 0.5\n",
        "\n",
        "# Flatten the images.\n",
        "train_images = train_images.reshape((-1, 784))\n",
        "test_images = test_images.reshape((-1, 784))\n",
        "\n"
      ],
      "execution_count": 27,
      "outputs": []
    },
    {
      "cell_type": "code",
      "metadata": {
        "colab": {
          "base_uri": "https://localhost:8080/"
        },
        "id": "2wohx587dFP2",
        "outputId": "df3e2d77-184b-4bc1-ea1e-6969958b0bd2"
      },
      "source": [
        "\n",
        "with tf.device('/cpu:0'):\n",
        "\n",
        "  # Build the model.\n",
        "  model = Sequential([\n",
        "    Dense(64, activation='relu', input_shape=(784,)),\n",
        "    Dense(100, activation='relu'),\n",
        "    Dense(10, activation='softmax'),\n",
        "  ])\n",
        "\n",
        "  # Compile the model.\n",
        "  model.compile(\n",
        "    optimizer='adam',\n",
        "    loss='categorical_crossentropy',\n",
        "    metrics=['accuracy'],\n",
        "  )\n",
        "\n",
        "  # Train the model.\n",
        "  model.fit(\n",
        "    train_images,\n",
        "    to_categorical(train_labels),\n",
        "    epochs=5,\n",
        "    batch_size=32,\n",
        "  )\n",
        "\n",
        "  # Evaluate the model.\n",
        "  model.evaluate(\n",
        "    test_images,\n",
        "    to_categorical(test_labels)\n",
        "  )\n",
        "\n"
      ],
      "execution_count": 33,
      "outputs": [
        {
          "output_type": "stream",
          "text": [
            "Epoch 1/5\n",
            "1875/1875 [==============================] - 3s 1ms/step - loss: 0.5712 - accuracy: 0.8296\n",
            "Epoch 2/5\n",
            "1875/1875 [==============================] - 2s 1ms/step - loss: 0.1844 - accuracy: 0.9431\n",
            "Epoch 3/5\n",
            "1875/1875 [==============================] - 2s 1ms/step - loss: 0.1411 - accuracy: 0.9568\n",
            "Epoch 4/5\n",
            "1875/1875 [==============================] - 2s 1ms/step - loss: 0.1121 - accuracy: 0.9652\n",
            "Epoch 5/5\n",
            "1875/1875 [==============================] - 2s 1ms/step - loss: 0.0956 - accuracy: 0.9699\n",
            "313/313 [==============================] - 0s 739us/step - loss: 0.1163 - accuracy: 0.9649\n"
          ],
          "name": "stdout"
        }
      ]
    },
    {
      "cell_type": "code",
      "metadata": {
        "id": "bn91Cx9qTr0W",
        "colab": {
          "base_uri": "https://localhost:8080/"
        },
        "outputId": "72ab92c9-4f51-4351-f7f1-d04d9546486c"
      },
      "source": [
        "with tf.device('/device:GPU:0'):\n",
        "\n",
        "  # Build the model.\n",
        "  model = Sequential([\n",
        "    Dense(64, activation='relu', input_shape=(784,)),\n",
        "    Dense(100, activation='relu'),\n",
        "    Dense(10, activation='softmax'),\n",
        "  ])\n",
        "\n",
        "  # Compile the model.\n",
        "  model.compile(\n",
        "    optimizer='adam',\n",
        "    loss='categorical_crossentropy',\n",
        "    metrics=['accuracy'],\n",
        "  )\n",
        "\n",
        "  # Train the model.\n",
        "  model.fit(\n",
        "    train_images,\n",
        "    to_categorical(train_labels),\n",
        "    epochs=5,\n",
        "    batch_size=32,\n",
        "  )\n",
        "\n",
        "  # Evaluate the model.\n",
        "  model.evaluate(\n",
        "    test_images,\n",
        "    to_categorical(test_labels)\n",
        "  )\n",
        "\n"
      ],
      "execution_count": 34,
      "outputs": [
        {
          "output_type": "stream",
          "text": [
            "Epoch 1/5\n",
            "1875/1875 [==============================] - 4s 2ms/step - loss: 0.5560 - accuracy: 0.8303\n",
            "Epoch 2/5\n",
            "1875/1875 [==============================] - 4s 2ms/step - loss: 0.2010 - accuracy: 0.9388\n",
            "Epoch 3/5\n",
            "1875/1875 [==============================] - 3s 2ms/step - loss: 0.1416 - accuracy: 0.9549\n",
            "Epoch 4/5\n",
            "1875/1875 [==============================] - 4s 2ms/step - loss: 0.1144 - accuracy: 0.9642\n",
            "Epoch 5/5\n",
            "1875/1875 [==============================] - 4s 2ms/step - loss: 0.0989 - accuracy: 0.9684\n",
            "313/313 [==============================] - 1s 2ms/step - loss: 0.1008 - accuracy: 0.9707\n"
          ],
          "name": "stdout"
        }
      ]
    },
    {
      "cell_type": "code",
      "metadata": {
        "colab": {
          "base_uri": "https://localhost:8080/"
        },
        "id": "BMwIYOlqf8H_",
        "outputId": "c7abea48-e260-4638-d111-2d9345768a38"
      },
      "source": [
        "# python 3.6\n",
        "import numpy as np\n",
        "import tensorflow as tf\n",
        "from tensorflow.python.client import device_lib\n",
        "from timeit import default_timer as timer\n",
        "\n",
        "model = tf.keras.Sequential()\n",
        "model.add(tf.keras.layers.Dense(64, activation='relu'))\n",
        "model.add(tf.keras.layers.Dense(64, activation='relu'))\n",
        "model.add(tf.keras.layers.Dense(10, activation='softmax'))\n",
        "\n",
        "model.compile(optimizer=tf.compat.v1.train.AdamOptimizer(0.001),\n",
        "              loss='categorical_crossentropy',\n",
        "              metrics=['accuracy'])\n",
        "\n",
        "\n",
        "def random_one_hot_labels(shape):\n",
        "    n, n_class = shape\n",
        "    classes = np.random.randint(0, n_class, n)\n",
        "    tmp_labels = np.zeros((n, n_class))\n",
        "    tmp_labels[np.arange(n), classes] = 1\n",
        "    return tmp_labels\n",
        "\n",
        "\n",
        "data = np.random.random((800, 32))\n",
        "labels = random_one_hot_labels((800, 10))\n",
        "\n",
        "devices=device_lib.list_local_devices()\n",
        "dev = [x.name for x in devices]\n",
        "\n",
        "for d in dev:\n",
        "  durations = []\n",
        "  for i in range(5):  # run N times\n",
        "    with tf.device(d):\n",
        "      start = timer()\n",
        "      model.fit(data, labels, epochs=50, batch_size=32,verbose=0)\n",
        "      durations.append(timer() - start)\n",
        "\n",
        "  print(d)\n",
        "  print(f\"model.fit durations: {durations}\")"
      ],
      "execution_count": 57,
      "outputs": [
        {
          "output_type": "stream",
          "text": [
            "/device:CPU:0\n",
            "model.fit durations: [1.8927598139998736, 1.6335957519995645, 1.6406057089998285, 1.6244155849999515, 1.6224856520002504]\n",
            "/device:GPU:0\n",
            "model.fit durations: [2.6461376830002337, 2.571619790999648, 2.533031289999599, 2.557901645000129, 2.529399165000541]\n"
          ],
          "name": "stdout"
        }
      ]
    },
    {
      "cell_type": "markdown",
      "metadata": {
        "id": "zVtvKmH6hsDP"
      },
      "source": [
        ""
      ]
    },
    {
      "cell_type": "code",
      "metadata": {
        "id": "Y615SVRBT8ZW"
      },
      "source": [
        ""
      ],
      "execution_count": null,
      "outputs": []
    },
    {
      "cell_type": "code",
      "metadata": {
        "id": "H1aA_tn6V2nd"
      },
      "source": [
        ""
      ],
      "execution_count": null,
      "outputs": []
    }
  ]
}