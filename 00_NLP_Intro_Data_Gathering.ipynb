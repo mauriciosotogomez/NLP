{
 "cells": [
  {
   "cell_type": "markdown",
   "metadata": {},
   "source": [
    "# Introduction to NLP"
   ]
  },
  {
   "cell_type": "code",
   "execution_count": 479,
   "metadata": {},
   "outputs": [],
   "source": [
    "#import sys\n",
    "#!conda install --yes --prefix {sys.prefix} nltk"
   ]
  },
  {
   "cell_type": "code",
   "execution_count": 2,
   "metadata": {},
   "outputs": [
    {
     "name": "stderr",
     "output_type": "stream",
     "text": [
      "[nltk_data] Downloading package wordnet to /home/mausoto/nltk_data...\n",
      "[nltk_data]   Package wordnet is already up-to-date!\n"
     ]
    },
    {
     "data": {
      "text/plain": [
       "True"
      ]
     },
     "execution_count": 2,
     "metadata": {},
     "output_type": "execute_result"
    }
   ],
   "source": [
    "import nltk\n",
    "nltk.download('wordnet')"
   ]
  },
  {
   "cell_type": "code",
   "execution_count": 20,
   "metadata": {},
   "outputs": [
    {
     "name": "stdout",
     "output_type": "stream",
     "text": [
      "noun: chair\n",
      "noun: professorship, chair\n",
      "noun: president, chairman, chairwoman, chair, chairperson\n",
      "noun: electric_chair, chair, death_chair, hot_seat\n",
      "noun: chair\n",
      "verb: chair, chairman\n",
      "verb: moderate, chair, lead\n"
     ]
    }
   ],
   "source": [
    "from nltk.corpus import wordnet as wn\n",
    "poses = { 'n':'noun', 'v':'verb', 's':'adj(s)', 'a':'adj', 'r':'adv'}\n",
    "# synsets: cognitive synonyms, each expressing a distinct concept\n",
    "for synset in wn.synsets(\"chair\"):\n",
    "    print(\"{}: {}\".format(poses[synset.pos()], \", \".join([l.name() for l in synset.lemmas()])))"
   ]
  },
  {
   "cell_type": "code",
   "execution_count": 22,
   "metadata": {},
   "outputs": [
    {
     "data": {
      "text/plain": [
       "[Synset('achiever.n.01'),\n",
       " Synset('person.n.01'),\n",
       " Synset('causal_agent.n.01'),\n",
       " Synset('organism.n.01'),\n",
       " Synset('physical_entity.n.01'),\n",
       " Synset('living_thing.n.01'),\n",
       " Synset('entity.n.01'),\n",
       " Synset('whole.n.02'),\n",
       " Synset('object.n.01')]"
      ]
     },
     "execution_count": 22,
     "metadata": {},
     "output_type": "execute_result"
    }
   ],
   "source": [
    "from nltk.corpus import wordnet as wn\n",
    "\n",
    "chair = wn.synset(\"chair.n.01\")\n",
    "\n",
    "hyper = lambda s: s.hypernyms()\n",
    "list(general.closure(hyper))"
   ]
  },
  {
   "cell_type": "code",
   "execution_count": 23,
   "metadata": {},
   "outputs": [
    {
     "data": {
      "text/plain": [
       "[Synset('armchair.n.01'),\n",
       " Synset('barber_chair.n.01'),\n",
       " Synset('chair_of_state.n.01'),\n",
       " Synset('chaise_longue.n.01'),\n",
       " Synset('eames_chair.n.01'),\n",
       " Synset('fighting_chair.n.01'),\n",
       " Synset('folding_chair.n.01'),\n",
       " Synset('highchair.n.01'),\n",
       " Synset('ladder-back.n.01'),\n",
       " Synset('lawn_chair.n.01'),\n",
       " Synset('rocking_chair.n.01'),\n",
       " Synset('straight_chair.n.01'),\n",
       " Synset('swivel_chair.n.01'),\n",
       " Synset('tablet-armed_chair.n.01'),\n",
       " Synset('wheelchair.n.01'),\n",
       " Synset('captain's_chair.n.01'),\n",
       " Synset('easy_chair.n.01'),\n",
       " Synset('fauteuil.n.01'),\n",
       " Synset('morris_chair.n.01'),\n",
       " Synset('recliner.n.01'),\n",
       " Synset('throne.n.01'),\n",
       " Synset('camp_chair.n.01'),\n",
       " Synset('deck_chair.n.01'),\n",
       " Synset('yacht_chair.n.01'),\n",
       " Synset('boston_rocker.n.01'),\n",
       " Synset('platform_rocker.n.01'),\n",
       " Synset('shoofly.n.02'),\n",
       " Synset('windsor_chair.n.01'),\n",
       " Synset('bath_chair.n.01'),\n",
       " Synset('motorized_wheelchair.n.01'),\n",
       " Synset('wing_chair.n.01'),\n",
       " Synset('cathedra.n.01'),\n",
       " Synset('mercy_seat.n.01'),\n",
       " Synset('musnud.n.01'),\n",
       " Synset('peacock-throne.n.01')]"
      ]
     },
     "execution_count": 23,
     "metadata": {},
     "output_type": "execute_result"
    }
   ],
   "source": [
    "hypo = lambda s: s.hyponyms()\n",
    "list(chair.closure(hypo))"
   ]
  },
  {
   "cell_type": "markdown",
   "metadata": {},
   "source": [
    "# Data Gathering"
   ]
  },
  {
   "cell_type": "markdown",
   "metadata": {},
   "source": [
    "In this example we will use song lyrics in our analysis.\n",
    "In pyton a couple of alternatives for lyrics scraping are\n",
    "\n",
    "- lyricsgenius\n",
    "- lyricsmaster \n",
    "\n",
    "you can install them using: "
   ]
  },
  {
   "cell_type": "code",
   "execution_count": 6,
   "metadata": {},
   "outputs": [],
   "source": [
    "#import sys\n",
    "\n",
    "#!conda install --yes --prefix {sys.prefix} lyricsmaster\n",
    "\n",
    "#!{sys.executable} -m pip install lyricsgenius"
   ]
  },
  {
   "cell_type": "markdown",
   "metadata": {},
   "source": [
    "## Lyricsmaster"
   ]
  },
  {
   "cell_type": "code",
   "execution_count": 7,
   "metadata": {},
   "outputs": [
    {
     "name": "stderr",
     "output_type": "stream",
     "text": [
      "2020-07-03 10:07:23,701 WARNINGconnectionpool.py  298: Connection pool is full, discarding connection: lyrics.wikia.com\n",
      "2020-07-03 10:07:24,143 WARNINGconnectionpool.py  298: Connection pool is full, discarding connection: lyrics.wikia.com\n",
      "2020-07-03 10:07:24,638 WARNINGconnectionpool.py  298: Connection pool is full, discarding connection: lyrics.wikia.com\n",
      "2020-07-03 10:07:25,094 WARNINGconnectionpool.py  298: Connection pool is full, discarding connection: lyrics.wikia.com\n",
      "2020-07-03 10:07:30,933 WARNINGconnectionpool.py  298: Connection pool is full, discarding connection: lyrics.wikia.com\n",
      "2020-07-03 10:07:31,725 WARNINGconnectionpool.py  298: Connection pool is full, discarding connection: lyrics.wikia.com\n",
      "2020-07-03 10:07:32,131 WARNINGconnectionpool.py  298: Connection pool is full, discarding connection: lyrics.wikia.com\n",
      "2020-07-03 10:07:32,944 WARNINGconnectionpool.py  298: Connection pool is full, discarding connection: lyrics.wikia.com\n",
      "2020-07-03 10:07:38,486 WARNINGconnectionpool.py  298: Connection pool is full, discarding connection: lyrics.wikia.com\n",
      "2020-07-03 10:07:38,976 WARNINGconnectionpool.py  298: Connection pool is full, discarding connection: lyrics.wikia.com\n",
      "2020-07-03 10:07:39,602 WARNINGconnectionpool.py  298: Connection pool is full, discarding connection: lyrics.wikia.com\n",
      "2020-07-03 10:07:46,836 WARNINGconnectionpool.py  298: Connection pool is full, discarding connection: lyrics.wikia.com\n",
      "2020-07-03 10:07:47,303 WARNINGconnectionpool.py  298: Connection pool is full, discarding connection: lyrics.wikia.com\n",
      "2020-07-03 10:07:47,749 WARNINGconnectionpool.py  298: Connection pool is full, discarding connection: lyrics.wikia.com\n",
      "2020-07-03 10:07:48,159 WARNINGconnectionpool.py  298: Connection pool is full, discarding connection: lyrics.wikia.com\n",
      "2020-07-03 10:07:53,644 WARNINGconnectionpool.py  298: Connection pool is full, discarding connection: lyrics.wikia.com\n",
      "2020-07-03 10:07:54,146 WARNINGconnectionpool.py  298: Connection pool is full, discarding connection: lyrics.wikia.com\n",
      "2020-07-03 10:07:54,577 WARNINGconnectionpool.py  298: Connection pool is full, discarding connection: lyrics.wikia.com\n",
      "2020-07-03 10:07:55,068 WARNINGconnectionpool.py  298: Connection pool is full, discarding connection: lyrics.wikia.com\n",
      "2020-07-03 10:08:00,997 WARNINGconnectionpool.py  298: Connection pool is full, discarding connection: lyrics.wikia.com\n",
      "2020-07-03 10:08:01,449 WARNINGconnectionpool.py  298: Connection pool is full, discarding connection: lyrics.wikia.com\n",
      "2020-07-03 10:08:01,874 WARNINGconnectionpool.py  298: Connection pool is full, discarding connection: lyrics.wikia.com\n",
      "2020-07-03 10:08:02,304 WARNINGconnectionpool.py  298: Connection pool is full, discarding connection: lyrics.wikia.com\n",
      "2020-07-03 10:08:08,765 WARNINGconnectionpool.py  298: Connection pool is full, discarding connection: lyrics.wikia.com\n",
      "2020-07-03 10:08:09,190 WARNINGconnectionpool.py  298: Connection pool is full, discarding connection: lyrics.wikia.com\n",
      "2020-07-03 10:08:09,804 WARNINGconnectionpool.py  298: Connection pool is full, discarding connection: lyrics.wikia.com\n",
      "2020-07-03 10:08:10,225 WARNINGconnectionpool.py  298: Connection pool is full, discarding connection: lyrics.wikia.com\n",
      "2020-07-03 10:08:16,225 WARNINGconnectionpool.py  298: Connection pool is full, discarding connection: lyrics.wikia.com\n",
      "2020-07-03 10:08:16,787 WARNINGconnectionpool.py  298: Connection pool is full, discarding connection: lyrics.wikia.com\n",
      "2020-07-03 10:08:17,234 WARNINGconnectionpool.py  298: Connection pool is full, discarding connection: lyrics.wikia.com\n",
      "2020-07-03 10:08:23,391 WARNINGconnectionpool.py  298: Connection pool is full, discarding connection: lyrics.wikia.com\n",
      "2020-07-03 10:08:28,804 WARNINGconnectionpool.py  298: Connection pool is full, discarding connection: lyrics.wikia.com\n",
      "2020-07-03 10:08:29,231 WARNINGconnectionpool.py  298: Connection pool is full, discarding connection: lyrics.wikia.com\n",
      "2020-07-03 10:08:29,644 WARNINGconnectionpool.py  298: Connection pool is full, discarding connection: lyrics.wikia.com\n",
      "2020-07-03 10:08:30,085 WARNINGconnectionpool.py  298: Connection pool is full, discarding connection: lyrics.wikia.com\n",
      "2020-07-03 10:08:30,714 WARNINGconnectionpool.py  298: Connection pool is full, discarding connection: lyrics.wikia.com\n",
      "2020-07-03 10:08:31,516 WARNINGconnectionpool.py  298: Connection pool is full, discarding connection: lyrics.wikia.com\n",
      "2020-07-03 10:08:31,994 WARNINGconnectionpool.py  298: Connection pool is full, discarding connection: lyrics.wikia.com\n",
      "2020-07-03 10:08:36,844 WARNINGconnectionpool.py  298: Connection pool is full, discarding connection: lyrics.wikia.com\n",
      "2020-07-03 10:08:37,415 WARNINGconnectionpool.py  298: Connection pool is full, discarding connection: lyrics.wikia.com\n",
      "2020-07-03 10:08:37,844 WARNINGconnectionpool.py  298: Connection pool is full, discarding connection: lyrics.wikia.com\n",
      "2020-07-03 10:08:44,022 WARNINGconnectionpool.py  298: Connection pool is full, discarding connection: lyrics.wikia.com\n",
      "2020-07-03 10:08:44,494 WARNINGconnectionpool.py  298: Connection pool is full, discarding connection: lyrics.wikia.com\n",
      "2020-07-03 10:08:44,942 WARNINGconnectionpool.py  298: Connection pool is full, discarding connection: lyrics.wikia.com\n",
      "2020-07-03 10:08:45,425 WARNINGconnectionpool.py  298: Connection pool is full, discarding connection: lyrics.wikia.com\n",
      "2020-07-03 10:08:45,873 WARNINGconnectionpool.py  298: Connection pool is full, discarding connection: lyrics.wikia.com\n",
      "2020-07-03 10:08:46,507 WARNINGconnectionpool.py  298: Connection pool is full, discarding connection: lyrics.wikia.com\n",
      "2020-07-03 10:08:46,930 WARNINGconnectionpool.py  298: Connection pool is full, discarding connection: lyrics.wikia.com\n",
      "2020-07-03 10:08:52,609 WARNINGconnectionpool.py  298: Connection pool is full, discarding connection: lyrics.wikia.com\n",
      "2020-07-03 10:08:53,636 WARNINGconnectionpool.py  298: Connection pool is full, discarding connection: lyrics.wikia.com\n",
      "2020-07-03 10:09:04,426 WARNINGconnectionpool.py  298: Connection pool is full, discarding connection: lyrics.wikia.com\n",
      "2020-07-03 10:09:04,882 WARNINGconnectionpool.py  298: Connection pool is full, discarding connection: lyrics.wikia.com\n",
      "2020-07-03 10:09:05,604 WARNINGconnectionpool.py  298: Connection pool is full, discarding connection: lyrics.wikia.com\n",
      "2020-07-03 10:09:06,057 WARNINGconnectionpool.py  298: Connection pool is full, discarding connection: lyrics.wikia.com\n",
      "2020-07-03 10:09:06,671 WARNINGconnectionpool.py  298: Connection pool is full, discarding connection: lyrics.wikia.com\n",
      "2020-07-03 10:09:07,255 WARNINGconnectionpool.py  298: Connection pool is full, discarding connection: lyrics.wikia.com\n",
      "2020-07-03 10:09:07,694 WARNINGconnectionpool.py  298: Connection pool is full, discarding connection: lyrics.wikia.com\n",
      "2020-07-03 10:09:08,136 WARNINGconnectionpool.py  298: Connection pool is full, discarding connection: lyrics.wikia.com\n",
      "2020-07-03 10:09:13,524 WARNINGconnectionpool.py  298: Connection pool is full, discarding connection: lyrics.wikia.com\n",
      "2020-07-03 10:09:13,683 WARNINGconnectionpool.py  298: Connection pool is full, discarding connection: lyrics.wikia.com\n",
      "2020-07-03 10:09:14,081 WARNINGconnectionpool.py  298: Connection pool is full, discarding connection: lyrics.wikia.com\n",
      "2020-07-03 10:09:14,235 WARNINGconnectionpool.py  298: Connection pool is full, discarding connection: lyrics.wikia.com\n",
      "2020-07-03 10:09:14,678 WARNINGconnectionpool.py  298: Connection pool is full, discarding connection: lyrics.wikia.com\n",
      "Traceback (most recent call last):\n",
      "  File \"src/gevent/greenlet.py\", line 766, in gevent._greenlet.Greenlet.run\n",
      "  File \"/home/mausoto/anaconda3/lib/python3.7/site-packages/lyricsmaster/providers.py\", line 439, in create_song\n",
      "    raw_lyrics_page = self.get_lyrics_page(song_url)\n",
      "  File \"/home/mausoto/anaconda3/lib/python3.7/site-packages/lyricsmaster/providers.py\", line 268, in get_lyrics_page\n",
      "    lyrics_page = BeautifulSoup(raw_html.decode('utf-8', 'ignore'), 'lxml')\n",
      "  File \"/home/mausoto/anaconda3/lib/python3.7/site-packages/bs4/__init__.py\", line 228, in __init__\n",
      "    self._feed()\n",
      "  File \"/home/mausoto/anaconda3/lib/python3.7/site-packages/bs4/__init__.py\", line 289, in _feed\n",
      "    self.builder.feed(self.markup)\n",
      "  File \"/home/mausoto/anaconda3/lib/python3.7/site-packages/bs4/builder/_lxml.py\", line 250, in feed\n",
      "    self.parser.feed(markup)\n",
      "  File \"src/lxml/parser.pxi\", line 1242, in lxml.etree._FeedParser.feed\n",
      "  File \"src/lxml/parser.pxi\", line 1364, in lxml.etree._FeedParser.feed\n",
      "  File \"src/lxml/parsertarget.pxi\", line 168, in lxml.etree._TargetParserContext._handleParseResult\n",
      "  File \"src/lxml/parsertarget.pxi\", line 156, in lxml.etree._TargetParserContext._handleParseResult\n",
      "  File \"src/lxml/etree.pyx\", line 318, in lxml.etree._ExceptionContext._raise_if_stored\n",
      "  File \"src/lxml/saxparser.pxi\", line 434, in lxml.etree._handleSaxTargetStartNoNs\n",
      "  File \"src/lxml/saxparser.pxi\", line 449, in lxml.etree._callTargetSaxStart\n",
      "  File \"src/lxml/parsertarget.pxi\", line 94, in lxml.etree._PythonSaxParserTarget._handleSaxStart\n",
      "  File \"/home/mausoto/anaconda3/lib/python3.7/site-packages/bs4/builder/_lxml.py\", line 171, in start\n",
      "    for attr, value in list(attrs.items()):\n",
      "KeyboardInterrupt\n",
      "2020-07-03T08:09:18Z <Greenlet at 0x7fc448d63dd0: <bound method LyricWiki.create_song of lyricsmaster.providers.LyricWiki(None)>(<a href=\"/wiki/The_Beatles:Yellow_Submarine_(Real_, 'The Beatles', 'Real Love')> failed with KeyboardInterrupt\n",
      "\n"
     ]
    },
    {
     "ename": "KeyboardInterrupt",
     "evalue": "",
     "output_type": "error",
     "traceback": [
      "\u001b[0;31m---------------------------------------------------------------------------\u001b[0m",
      "\u001b[0;31mKeyboardInterrupt\u001b[0m                         Traceback (most recent call last)",
      "\u001b[0;32m<ipython-input-7-a0e8cc017b34>\u001b[0m in \u001b[0;36m<module>\u001b[0;34m\u001b[0m\n\u001b[1;32m     13\u001b[0m \u001b[0;34m\u001b[0m\u001b[0m\n\u001b[1;32m     14\u001b[0m \u001b[0;31m#provider.get_artist_page(artist)\u001b[0m\u001b[0;34m\u001b[0m\u001b[0;34m\u001b[0m\u001b[0;34m\u001b[0m\u001b[0m\n\u001b[0;32m---> 15\u001b[0;31m \u001b[0mdiscography\u001b[0m \u001b[0;34m=\u001b[0m \u001b[0mprovider\u001b[0m\u001b[0;34m.\u001b[0m\u001b[0mget_lyrics\u001b[0m\u001b[0;34m(\u001b[0m\u001b[0martist\u001b[0m\u001b[0;34m)\u001b[0m\u001b[0;34m\u001b[0m\u001b[0;34m\u001b[0m\u001b[0m\n\u001b[0m",
      "\u001b[0;32m~/anaconda3/lib/python3.7/site-packages/lyricsmaster/providers.py\u001b[0m in \u001b[0;36mget_lyrics\u001b[0;34m(self, artist, album, song)\u001b[0m\n\u001b[1;32m    314\u001b[0m                 \u001b[0mpool\u001b[0m \u001b[0;34m=\u001b[0m \u001b[0mPool\u001b[0m\u001b[0;34m(\u001b[0m\u001b[0;36m25\u001b[0m\u001b[0;34m)\u001b[0m  \u001b[0;31m# Sets the worker pool for async requests. 25 is a nice value to not annoy site owners ;)\u001b[0m\u001b[0;34m\u001b[0m\u001b[0;34m\u001b[0m\u001b[0m\n\u001b[1;32m    315\u001b[0m                 \u001b[0mresults\u001b[0m \u001b[0;34m=\u001b[0m \u001b[0;34m[\u001b[0m\u001b[0mpool\u001b[0m\u001b[0;34m.\u001b[0m\u001b[0mspawn\u001b[0m\u001b[0;34m(\u001b[0m\u001b[0mself\u001b[0m\u001b[0;34m.\u001b[0m\u001b[0mcreate_song\u001b[0m\u001b[0;34m,\u001b[0m \u001b[0;34m*\u001b[0m\u001b[0;34m(\u001b[0m\u001b[0mlink\u001b[0m\u001b[0;34m,\u001b[0m \u001b[0martist\u001b[0m\u001b[0;34m,\u001b[0m \u001b[0malbum_title\u001b[0m\u001b[0;34m)\u001b[0m\u001b[0;34m)\u001b[0m \u001b[0;32mfor\u001b[0m \u001b[0mlink\u001b[0m \u001b[0;32min\u001b[0m \u001b[0msong_links\u001b[0m\u001b[0;34m]\u001b[0m\u001b[0;34m\u001b[0m\u001b[0;34m\u001b[0m\u001b[0m\n\u001b[0;32m--> 316\u001b[0;31m                 \u001b[0mpool\u001b[0m\u001b[0;34m.\u001b[0m\u001b[0mjoin\u001b[0m\u001b[0;34m(\u001b[0m\u001b[0;34m)\u001b[0m  \u001b[0;31m# Gathers results from the pool\u001b[0m\u001b[0;34m\u001b[0m\u001b[0;34m\u001b[0m\u001b[0m\n\u001b[0m\u001b[1;32m    317\u001b[0m                 \u001b[0msongs\u001b[0m \u001b[0;34m=\u001b[0m \u001b[0;34m[\u001b[0m\u001b[0msong\u001b[0m\u001b[0;34m.\u001b[0m\u001b[0mvalue\u001b[0m \u001b[0;32mfor\u001b[0m \u001b[0msong\u001b[0m \u001b[0;32min\u001b[0m \u001b[0mresults\u001b[0m \u001b[0;32mif\u001b[0m \u001b[0msong\u001b[0m\u001b[0;34m.\u001b[0m\u001b[0mvalue\u001b[0m\u001b[0;34m]\u001b[0m\u001b[0;34m\u001b[0m\u001b[0;34m\u001b[0m\u001b[0m\n\u001b[1;32m    318\u001b[0m                 \u001b[0;32mif\u001b[0m \u001b[0msongs\u001b[0m\u001b[0;34m:\u001b[0m\u001b[0;34m\u001b[0m\u001b[0;34m\u001b[0m\u001b[0m\n",
      "\u001b[0;32m~/anaconda3/lib/python3.7/site-packages/gevent/pool.py\u001b[0m in \u001b[0;36mjoin\u001b[0;34m(self, timeout, raise_error)\u001b[0m\n\u001b[1;32m    426\u001b[0m         \"\"\"\n\u001b[1;32m    427\u001b[0m         \u001b[0mgreenlets\u001b[0m \u001b[0;34m=\u001b[0m \u001b[0mlist\u001b[0m\u001b[0;34m(\u001b[0m\u001b[0mself\u001b[0m\u001b[0;34m.\u001b[0m\u001b[0mgreenlets\u001b[0m\u001b[0;34m)\u001b[0m \u001b[0;32mif\u001b[0m \u001b[0mraise_error\u001b[0m \u001b[0;32melse\u001b[0m \u001b[0;34m(\u001b[0m\u001b[0;34m)\u001b[0m\u001b[0;34m\u001b[0m\u001b[0;34m\u001b[0m\u001b[0m\n\u001b[0;32m--> 428\u001b[0;31m         \u001b[0mresult\u001b[0m \u001b[0;34m=\u001b[0m \u001b[0mself\u001b[0m\u001b[0;34m.\u001b[0m\u001b[0m_empty_event\u001b[0m\u001b[0;34m.\u001b[0m\u001b[0mwait\u001b[0m\u001b[0;34m(\u001b[0m\u001b[0mtimeout\u001b[0m\u001b[0;34m=\u001b[0m\u001b[0mtimeout\u001b[0m\u001b[0;34m)\u001b[0m\u001b[0;34m\u001b[0m\u001b[0;34m\u001b[0m\u001b[0m\n\u001b[0m\u001b[1;32m    429\u001b[0m \u001b[0;34m\u001b[0m\u001b[0m\n\u001b[1;32m    430\u001b[0m         \u001b[0;32mfor\u001b[0m \u001b[0mgreenlet\u001b[0m \u001b[0;32min\u001b[0m \u001b[0mgreenlets\u001b[0m\u001b[0;34m:\u001b[0m\u001b[0;34m\u001b[0m\u001b[0;34m\u001b[0m\u001b[0m\n",
      "\u001b[0;32m~/anaconda3/lib/python3.7/site-packages/gevent/_event.cpython-37m-x86_64-linux-gnu.so\u001b[0m in \u001b[0;36mgevent._event.Event.wait\u001b[0;34m()\u001b[0m\n",
      "\u001b[0;32m~/anaconda3/lib/python3.7/site-packages/gevent/__abstract_linkable.cpython-37m-x86_64-linux-gnu.so\u001b[0m in \u001b[0;36mgevent.__abstract_linkable.AbstractLinkable._wait\u001b[0;34m()\u001b[0m\n",
      "\u001b[0;32m~/anaconda3/lib/python3.7/site-packages/gevent/__abstract_linkable.cpython-37m-x86_64-linux-gnu.so\u001b[0m in \u001b[0;36mgevent.__abstract_linkable.AbstractLinkable._wait_core\u001b[0;34m()\u001b[0m\n",
      "\u001b[0;32m~/anaconda3/lib/python3.7/site-packages/gevent/__abstract_linkable.cpython-37m-x86_64-linux-gnu.so\u001b[0m in \u001b[0;36mgevent.__abstract_linkable.AbstractLinkable._wait_core\u001b[0;34m()\u001b[0m\n",
      "\u001b[0;32m~/anaconda3/lib/python3.7/site-packages/gevent/__greenlet_primitives.cpython-37m-x86_64-linux-gnu.so\u001b[0m in \u001b[0;36mgevent.__greenlet_primitives.SwitchOutGreenletWithLoop.switch\u001b[0;34m()\u001b[0m\n",
      "\u001b[0;32m~/anaconda3/lib/python3.7/site-packages/gevent/__greenlet_primitives.cpython-37m-x86_64-linux-gnu.so\u001b[0m in \u001b[0;36mgevent.__greenlet_primitives.SwitchOutGreenletWithLoop.switch\u001b[0;34m()\u001b[0m\n",
      "\u001b[0;32m~/anaconda3/lib/python3.7/site-packages/gevent/__greenlet_primitives.cpython-37m-x86_64-linux-gnu.so\u001b[0m in \u001b[0;36mgevent.__greenlet_primitives.SwitchOutGreenletWithLoop.switch\u001b[0;34m()\u001b[0m\n",
      "\u001b[0;32msrc/gevent/__greenlet_primitives.pxd\u001b[0m in \u001b[0;36mgevent.__greenlet_primitives._greenlet_switch\u001b[0;34m()\u001b[0m\n",
      "\u001b[0;31mKeyboardInterrupt\u001b[0m: "
     ]
    }
   ],
   "source": [
    "# Getting discography \n",
    "\n",
    "from lyricsmaster import Genius, LyricWiki, TorController, AzLyrics, Lyrics007, MusixMatch\n",
    "import re # regular expresions\n",
    "\n",
    "\n",
    "# Select a provider from the supported Lyrics Providers (LyricWiki, AzLyrics, Genius etc..)\n",
    "# The default Provider is LyricWiki\n",
    "provider = LyricWiki()\n",
    "\n",
    "artist='The Beatles'\n",
    "# Fetch all lyrics from artist\n",
    "\n",
    "#provider.get_artist_page(artist)\n",
    "discography = provider.get_lyrics(artist)"
   ]
  },
  {
   "cell_type": "code",
   "execution_count": null,
   "metadata": {},
   "outputs": [],
   "source": [
    "import re\n",
    "import string \n",
    "\n",
    "regex = re.compile('[%s]' % re.escape(string.punctuation))\n",
    "\n",
    "regex.sub('', \"Problematic/|Text?\")"
   ]
  },
  {
   "cell_type": "code",
   "execution_count": null,
   "metadata": {},
   "outputs": [],
   "source": [
    "# Discography Objects and Album Objects can be iterated over.\n",
    "for album in discography:    # album is an Album Object.\n",
    "    print('Album: ', album.title)\n",
    "    for song in album:       # song is a Song Object.\n",
    "        print('Song: ', song.title)\n",
    "        #print('Lyrics: ', song.lyrics)        \n",
    "        with open(artist+'_'+regex.sub('', album.title)+'_'+regex.sub('', song.title)+'.txt', 'w') as f:\n",
    "            f.write(song.lyrics)"
   ]
  },
  {
   "cell_type": "markdown",
   "metadata": {},
   "source": [
    "## Lyricsgenius"
   ]
  },
  {
   "cell_type": "code",
   "execution_count": null,
   "metadata": {},
   "outputs": [],
   "source": [
    "# Get a API client-key at http://genius.com/api-clients  \n",
    "import lyricsgenius\n",
    "genius = lyricsgenius.Genius(\"MomfrbK064eC2B3l7z1Hflv5edbsMEbY6q7AS351wgH4xn-6KD2hX_Vo6-ROfZXS\")\n",
    "\n",
    "artist='Michael Jackson'\n",
    "\n",
    "g_artist = genius.search_artist(artist, max_songs=50)"
   ]
  },
  {
   "cell_type": "code",
   "execution_count": null,
   "metadata": {},
   "outputs": [],
   "source": [
    "import re\n",
    "import string \n",
    "regex = re.compile('[%s]' % re.escape(string.punctuation))\n",
    "\n",
    "i=1\n",
    "for song in g_artist.songs:     \n",
    "    try:\n",
    "        song_album = song.album\n",
    "        song_title = song.title\n",
    "        song_lyrics =song.lyrics        \n",
    "    #    song_album_url = song.album_url\n",
    "    #    featured_artists = song.featured_artists\n",
    "    #    song_media = song.media\n",
    "    #    song_url = song.url\n",
    "    #    song_writer_artists = song.writer_artists\n",
    "        song_year = song.year[:4]\n",
    "    except:\n",
    "        song_album = \"null\"\n",
    "        song_title = \"null\"\n",
    "        song_lyrics = \"null\"\n",
    "    #    song_album_url = \"null\"\n",
    "    #     featured_artists = \"null\"\n",
    "    #     song_media = \"null\"\n",
    "    #     song_url = \"null\"\n",
    "    #     song_writer_artists = \"null\"\n",
    "        song_year = \"null\"\n",
    "    if i not in [] :\n",
    "        with open('lyrics_top50/'+artist+'_'+regex.sub('', song_album)+'_'+regex.sub('', song_year)+'_'+regex.sub('', song_title)+'.txt', 'w') as f:\n",
    "            f.write(song_lyrics)\n",
    "            f.close\n",
    "    print(i)\n",
    "    i=i+1"
   ]
  },
  {
   "cell_type": "code",
   "execution_count": null,
   "metadata": {},
   "outputs": [],
   "source": [
    "artists=['ABBA','David_Bowie','Janis_Joplin','Michael_Jackson','Queen','Rolling_Stones','The_Clash','Bob_Dylan','Elton_John','Led_Zeppeling','Pink_Floyd','Ramones','The_Beatles','The_Doors']\n",
    "\n",
    "data = {}\n",
    "for i, a in enumerate(artists):\n",
    "    with open(\"lyrics_top50/\" + a + \".txt\", \"r\") as file:\n",
    "        data[a] = re.sub('\\n', ' ', file.read()) # Remove new line \\n  "
   ]
  },
  {
   "cell_type": "code",
   "execution_count": null,
   "metadata": {},
   "outputs": [],
   "source": [
    "data.keys()"
   ]
  },
  {
   "cell_type": "code",
   "execution_count": null,
   "metadata": {},
   "outputs": [],
   "source": [
    "data['ABBA']"
   ]
  },
  {
   "cell_type": "code",
   "execution_count": null,
   "metadata": {},
   "outputs": [],
   "source": [
    "import pandas as pd\n",
    "\n",
    "data_df = pd.DataFrame(data,index=[0]).transpose()\n",
    "data_df.columns=['lyrics']\n",
    "data_df"
   ]
  },
  {
   "cell_type": "code",
   "execution_count": null,
   "metadata": {},
   "outputs": [],
   "source": [
    "data_df.to_csv('lyrics.csv')"
   ]
  },
  {
   "cell_type": "code",
   "execution_count": null,
   "metadata": {},
   "outputs": [],
   "source": []
  }
 ],
 "metadata": {
  "kernelspec": {
   "display_name": "Python 3",
   "language": "python",
   "name": "python3"
  },
  "language_info": {
   "codemirror_mode": {
    "name": "ipython",
    "version": 3
   },
   "file_extension": ".py",
   "mimetype": "text/x-python",
   "name": "python",
   "nbconvert_exporter": "python",
   "pygments_lexer": "ipython3",
   "version": "3.7.6"
  },
  "toc": {
   "nav_menu": {},
   "number_sections": true,
   "sideBar": true,
   "skip_h1_title": false,
   "toc_cell": false,
   "toc_position": {},
   "toc_section_display": "block",
   "toc_window_display": false
  },
  "varInspector": {
   "cols": {
    "lenName": 16,
    "lenType": 16,
    "lenVar": 40
   },
   "kernels_config": {
    "python": {
     "delete_cmd_postfix": "",
     "delete_cmd_prefix": "del ",
     "library": "var_list.py",
     "varRefreshCmd": "print(var_dic_list())"
    },
    "r": {
     "delete_cmd_postfix": ") ",
     "delete_cmd_prefix": "rm(",
     "library": "var_list.r",
     "varRefreshCmd": "cat(var_dic_list()) "
    }
   },
   "types_to_exclude": [
    "module",
    "function",
    "builtin_function_or_method",
    "instance",
    "_Feature"
   ],
   "window_display": false
  }
 },
 "nbformat": 4,
 "nbformat_minor": 2
}
