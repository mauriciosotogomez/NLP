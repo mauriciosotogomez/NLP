{
 "cells": [
  {
   "cell_type": "markdown",
   "metadata": {},
   "source": [
    "# Introduction to NLP"
   ]
  },
  {
   "cell_type": "code",
   "execution_count": null,
   "metadata": {},
   "outputs": [],
   "source": [
    "#import sys\n",
    "#!conda install --yes --prefix {sys.prefix} nltk"
   ]
  },
  {
   "cell_type": "code",
   "execution_count": null,
   "metadata": {},
   "outputs": [],
   "source": [
    "import nltk\n",
    "nltk.download('wordnet')"
   ]
  },
  {
   "cell_type": "code",
   "execution_count": null,
   "metadata": {},
   "outputs": [],
   "source": [
    "from nltk.corpus import wordnet as wn\n",
    "poses = { 'n':'noun', 'v':'verb', 's':'adj(s)', 'a':'adj', 'r':'adv'}\n",
    "# synsets: cognitive synonyms, each expressing a distinct concept\n",
    "for synset in wn.synsets(\"chair\"):\n",
    "    print(\"{}: {}\".format(poses[synset.pos()], \", \".join([l.name() for l in synset.lemmas()])))"
   ]
  },
  {
   "cell_type": "code",
   "execution_count": null,
   "metadata": {},
   "outputs": [],
   "source": [
    "from nltk.corpus import wordnet as wn\n",
    "\n",
    "chair = wn.synset(\"chair.n.01\")\n",
    "\n",
    "hyper = lambda s: s.hypernyms()\n",
    "list(chair.closure(hyper))"
   ]
  },
  {
   "cell_type": "code",
   "execution_count": null,
   "metadata": {},
   "outputs": [],
   "source": [
    "hypo = lambda s: s.hyponyms()\n",
    "list(chair.closure(hypo))"
   ]
  },
  {
   "cell_type": "markdown",
   "metadata": {},
   "source": [
    "# Data Gathering"
   ]
  },
  {
   "cell_type": "markdown",
   "metadata": {},
   "source": [
    "In this example we will use song lyrics in our analysis.\n",
    "In pyton a couple of alternatives for lyrics scraping are\n",
    "\n",
    "- lyricsgenius\n",
    "- lyricsmaster \n",
    "\n",
    "you can install them using: "
   ]
  },
  {
   "cell_type": "code",
   "execution_count": null,
   "metadata": {},
   "outputs": [],
   "source": [
    "#import sys\n",
    "\n",
    "#!conda install --yes --prefix {sys.prefix} lyricsmaster\n",
    "\n",
    "#!{sys.executable} -m pip install lyricsgenius"
   ]
  },
  {
   "cell_type": "markdown",
   "metadata": {},
   "source": [
    "## Lyricsmaster"
   ]
  },
  {
   "cell_type": "code",
   "execution_count": null,
   "metadata": {},
   "outputs": [],
   "source": [
    "# Getting discography \n",
    "\n",
    "from lyricsmaster import Genius, LyricWiki, TorController, AzLyrics, Lyrics007, MusixMatch\n",
    "import re # regular expresions\n",
    "\n",
    "# Select a provider from the supported Lyrics Providers (LyricWiki, AzLyrics, Genius etc..)\n",
    "# The default Provider is LyricWiki\n",
    "provider = LyricWiki()\n",
    "\n",
    "artist='ABBA'\n",
    "#provider.get_artist_page(artist)\n",
    "discography = provider.get_lyrics(artist)"
   ]
  },
  {
   "cell_type": "code",
   "execution_count": null,
   "metadata": {},
   "outputs": [],
   "source": [
    "print(discography)"
   ]
  },
  {
   "cell_type": "code",
   "execution_count": null,
   "metadata": {},
   "outputs": [],
   "source": [
    "# Discography Objects and Album Objects can be iterated over.\n",
    "for album in discography:    # album is an Album Object.\n",
    "    print('Album: ', album.title)\n",
    "    for song in album:       # song is a Song Object.\n",
    "        print('Song: ', song.title)\n",
    "        print('Lyrics: ', song.lyrics)        \n",
    "        #with open(artist+'_'+regex.sub('', album.title)+'_'+regex.sub('', song.title)+'.txt', 'w') as f:\n",
    "            #f.write(song.lyrics)"
   ]
  },
  {
   "cell_type": "markdown",
   "metadata": {},
   "source": [
    "## Lyricsgenius"
   ]
  },
  {
   "cell_type": "code",
   "execution_count": null,
   "metadata": {},
   "outputs": [],
   "source": [
    "# Get a API client-key at http://genius.com/api-clients  \n",
    "import lyricsgenius\n",
    "genius = lyricsgenius.Genius(\"MomfrbK064eC2B3l7z1Hflv5edbsMEbY6q7AS351wgH4xn-6KD2hX_Vo6-ROfZXS\")\n",
    "\n",
    "artist='Michael Jackson'\n",
    "\n",
    "g_artist = genius.search_artist(artist, max_songs=50)"
   ]
  },
  {
   "cell_type": "code",
   "execution_count": null,
   "metadata": {},
   "outputs": [],
   "source": [
    "import re\n",
    "import string \n",
    "\n",
    "regex = re.compile('[%s]' % re.escape(string.punctuation))\n",
    "\n",
    "regex.sub('', \"Problematic/|Text?\")"
   ]
  },
  {
   "cell_type": "code",
   "execution_count": null,
   "metadata": {},
   "outputs": [],
   "source": [
    "import re\n",
    "import string \n",
    "regex = re.compile('[%s]' % re.escape(string.punctuation))\n",
    "\n",
    "i=1\n",
    "for song in g_artist.songs:     \n",
    "    try:\n",
    "        song_album = song.album\n",
    "        song_title = song.title\n",
    "        song_lyrics =song.lyrics        \n",
    "    #    song_album_url = song.album_url\n",
    "    #    featured_artists = song.featured_artists\n",
    "    #    song_media = song.media\n",
    "    #    song_url = song.url\n",
    "    #    song_writer_artists = song.writer_artists\n",
    "        song_year = song.year[:4]\n",
    "    except:\n",
    "        song_album = \"null\"\n",
    "        song_title = \"null\"\n",
    "        song_lyrics = \"null\"\n",
    "    #    song_album_url = \"null\"\n",
    "    #     featured_artists = \"null\"\n",
    "    #     song_media = \"null\"\n",
    "    #     song_url = \"null\"\n",
    "    #     song_writer_artists = \"null\"\n",
    "        song_year = \"null\"\n",
    "    if i not in [] :\n",
    "        with open('lyrics_top50/'+artist+'_'+regex.sub('', song_album)+'_'+regex.sub('', song_year)+'_'+regex.sub('', song_title)+'.txt', 'w') as f:\n",
    "            f.write(song_lyrics)\n",
    "            f.close\n",
    "    print(i)\n",
    "    i=i+1"
   ]
  },
  {
   "cell_type": "code",
   "execution_count": null,
   "metadata": {},
   "outputs": [],
   "source": [
    "artists=['ABBA','David_Bowie','Janis_Joplin','Michael_Jackson','Queen','Rolling_Stones','The_Clash','Bob_Dylan','Elton_John','Led_Zeppeling','Pink_Floyd','Ramones','The_Beatles','The_Doors']\n",
    "\n",
    "data = {}\n",
    "for i, a in enumerate(artists):\n",
    "    with open(\"lyrics_top50/\" + a + \".txt\", \"r\") as file:\n",
    "        data[a] = re.sub('\\n', ' ', file.read()) # Remove new line \\n  "
   ]
  },
  {
   "cell_type": "code",
   "execution_count": null,
   "metadata": {},
   "outputs": [],
   "source": [
    "data.keys()"
   ]
  },
  {
   "cell_type": "code",
   "execution_count": null,
   "metadata": {},
   "outputs": [],
   "source": [
    "data['ABBA']"
   ]
  },
  {
   "cell_type": "code",
   "execution_count": null,
   "metadata": {},
   "outputs": [],
   "source": [
    "import pandas as pd\n",
    "\n",
    "data_df = pd.DataFrame(data,index=[0]).transpose()\n",
    "data_df.columns=['lyrics']\n",
    "data_df"
   ]
  },
  {
   "cell_type": "code",
   "execution_count": null,
   "metadata": {},
   "outputs": [],
   "source": [
    "data_df.to_csv('lyrics.csv')"
   ]
  },
  {
   "cell_type": "code",
   "execution_count": null,
   "metadata": {},
   "outputs": [],
   "source": []
  }
 ],
 "metadata": {
  "kernelspec": {
   "display_name": "Python 3",
   "language": "python",
   "name": "python3"
  },
  "language_info": {
   "codemirror_mode": {
    "name": "ipython",
    "version": 3
   },
   "file_extension": ".py",
   "mimetype": "text/x-python",
   "name": "python",
   "nbconvert_exporter": "python",
   "pygments_lexer": "ipython3",
   "version": "3.7.6"
  },
  "toc": {
   "nav_menu": {},
   "number_sections": true,
   "sideBar": true,
   "skip_h1_title": false,
   "toc_cell": false,
   "toc_position": {},
   "toc_section_display": "block",
   "toc_window_display": false
  },
  "varInspector": {
   "cols": {
    "lenName": 16,
    "lenType": 16,
    "lenVar": 40
   },
   "kernels_config": {
    "python": {
     "delete_cmd_postfix": "",
     "delete_cmd_prefix": "del ",
     "library": "var_list.py",
     "varRefreshCmd": "print(var_dic_list())"
    },
    "r": {
     "delete_cmd_postfix": ") ",
     "delete_cmd_prefix": "rm(",
     "library": "var_list.r",
     "varRefreshCmd": "cat(var_dic_list()) "
    }
   },
   "types_to_exclude": [
    "module",
    "function",
    "builtin_function_or_method",
    "instance",
    "_Feature"
   ],
   "window_display": false
  }
 },
 "nbformat": 4,
 "nbformat_minor": 2
}
